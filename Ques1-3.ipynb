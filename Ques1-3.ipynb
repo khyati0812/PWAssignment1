{
  "nbformat": 4,
  "nbformat_minor": 0,
  "metadata": {
    "colab": {
      "provenance": [],
      "authorship_tag": "ABX9TyPPcC8S32Xvy6O6gyYcxYe5",
      "include_colab_link": true
    },
    "kernelspec": {
      "name": "python3",
      "display_name": "Python 3"
    },
    "language_info": {
      "name": "python"
    }
  },
  "cells": [
    {
      "cell_type": "markdown",
      "metadata": {
        "id": "view-in-github",
        "colab_type": "text"
      },
      "source": [
        "<a href=\"https://colab.research.google.com/github/khyati0812/PWAssignment1/blob/main/Ques1-3.ipynb\" target=\"_parent\"><img src=\"https://colab.research.google.com/assets/colab-badge.svg\" alt=\"Open In Colab\"/></a>"
      ]
    },
    {
      "cell_type": "code",
      "execution_count": null,
      "metadata": {
        "id": "Z4zefzJ17oIj"
      },
      "outputs": [],
      "source": []
    },
    {
      "cell_type": "markdown",
      "source": [
        "Ques 1.\n",
        "\n",
        "\n",
        "\n",
        "\n",
        "\n",
        "####Python is a programming language widely used in today's world. Its usage spans across fields like data science, machine learning, computer vision etc.\n",
        "# Key features of Python that make it a popular choice for programming are:\n",
        "###Simplicity: It is comparatively easier to learn Python relative to other programming languages.\n",
        "###Versatility: Usage across various fields and in many applications\n",
        "###Readability: Python code is readable. Useful for non technical users to interpret the logic of code.\n",
        "###Error explanation: Proper explanation of errors which helps users to debug efficiently.\n",
        "###Easy syntax- Python uses English-like syntax which is easy to understand.\n",
        "\n",
        "\n",
        "\n",
        "\n",
        "\n"
      ],
      "metadata": {
        "id": "0LXlp7sj8BbN"
      }
    },
    {
      "cell_type": "markdown",
      "source": [
        "###Ques 2.\n",
        "##Keywords:\n",
        "Predefined words that carry a special meaning for the compiler. These are in-built provided by Python library. They cannot be used as variable names.\n",
        "Examples- for, while, str, print.\n",
        "\n",
        "\n",
        "```\n",
        "a=123\n",
        "print(str(a))\n",
        "Output expected= \"123\"\n",
        "```\n",
        "\n",
        "\n",
        "If we try using them as variable names, we won't get an error but if we try re-using this keyword for it's original purpose, Python throws an error that the keyword is not callable because the compiler no longer understands it as a special keyword but as a variable name."
      ],
      "metadata": {
        "id": "qE-R_tOy-FgS"
      }
    },
    {
      "cell_type": "code",
      "source": [
        "a=123\n",
        "print(type(a))\n",
        "x=str(a)\n",
        "print(type(x))"
      ],
      "metadata": {
        "colab": {
          "base_uri": "https://localhost:8080/"
        },
        "id": "327AI7f3_CJE",
        "outputId": "1de5261a-591b-47f6-a1f1-edfc3b9484ba"
      },
      "execution_count": 2,
      "outputs": [
        {
          "output_type": "stream",
          "name": "stdout",
          "text": [
            "<class 'int'>\n",
            "<class 'str'>\n"
          ]
        }
      ]
    },
    {
      "cell_type": "code",
      "source": [
        "print=2"
      ],
      "metadata": {
        "id": "OXie_YUXAZJc"
      },
      "execution_count": 7,
      "outputs": []
    },
    {
      "cell_type": "code",
      "source": [
        "#try using print to display output- error\n",
        "print(\"Hello world!\")"
      ],
      "metadata": {
        "colab": {
          "base_uri": "https://localhost:8080/",
          "height": 158
        },
        "id": "OO5tQrd8_VnW",
        "outputId": "efa58891-7d81-4b2d-ffc9-2ccc3bb51276"
      },
      "execution_count": 6,
      "outputs": [
        {
          "output_type": "error",
          "ename": "TypeError",
          "evalue": "'int' object is not callable",
          "traceback": [
            "\u001b[0;31m---------------------------------------------------------------------------\u001b[0m",
            "\u001b[0;31mTypeError\u001b[0m                                 Traceback (most recent call last)",
            "\u001b[0;32m<ipython-input-6-87cd2b63d688>\u001b[0m in \u001b[0;36m<cell line: 2>\u001b[0;34m()\u001b[0m\n\u001b[1;32m      1\u001b[0m \u001b[0;31m#try using print to display output- error\u001b[0m\u001b[0;34m\u001b[0m\u001b[0;34m\u001b[0m\u001b[0m\n\u001b[0;32m----> 2\u001b[0;31m \u001b[0mprint\u001b[0m\u001b[0;34m(\u001b[0m\u001b[0;34m\"Hello world!\"\u001b[0m\u001b[0;34m)\u001b[0m\u001b[0;34m\u001b[0m\u001b[0;34m\u001b[0m\u001b[0m\n\u001b[0m",
            "\u001b[0;31mTypeError\u001b[0m: 'int' object is not callable"
          ]
        }
      ]
    },
    {
      "cell_type": "markdown",
      "source": [
        "###Ques 3.\n",
        "##Mutable objects-\n",
        "Those objects which can be changed in Python are mutable.\n",
        "They are unhashable.\n",
        "Example- lists\n",
        "###Immutable objects-\n",
        "Those objects which cannot be changed in Python and will throw an error if we try doing so.\n",
        "They are hashable(binds to a unique memory address).\n",
        "Example- tuples.\n",
        "\n"
      ],
      "metadata": {
        "id": "SIeoHhHw_dVi"
      }
    },
    {
      "cell_type": "code",
      "source": [
        "l=[12,3,2,3,1,1,11,3,'List'] #list\n",
        "l[0]=5 #accessing the first element and changing it"
      ],
      "metadata": {
        "id": "a2-hfZIYAM4v"
      },
      "execution_count": 11,
      "outputs": []
    },
    {
      "cell_type": "code",
      "source": [
        "l #original list element gets changed\n"
      ],
      "metadata": {
        "colab": {
          "base_uri": "https://localhost:8080/"
        },
        "id": "FPoZYuNVAdfi",
        "outputId": "da006229-9f8c-4286-9cbb-7c00cd30e015"
      },
      "execution_count": 12,
      "outputs": [
        {
          "output_type": "execute_result",
          "data": {
            "text/plain": [
              "[5, 3, 2, 3, 1, 1, 11, 3, 'List']"
            ]
          },
          "metadata": {},
          "execution_count": 12
        }
      ]
    },
    {
      "cell_type": "code",
      "source": [
        "t=(12,48,10,4.2,9.9)\n",
        "t[0]=45 #throws an error because item assignment is not supported( immutable)"
      ],
      "metadata": {
        "colab": {
          "base_uri": "https://localhost:8080/",
          "height": 158
        },
        "id": "pnsjc9sGAmzL",
        "outputId": "8f6c4d08-c2db-4710-e677-f190e3ef6f05"
      },
      "execution_count": 13,
      "outputs": [
        {
          "output_type": "error",
          "ename": "TypeError",
          "evalue": "'tuple' object does not support item assignment",
          "traceback": [
            "\u001b[0;31m---------------------------------------------------------------------------\u001b[0m",
            "\u001b[0;31mTypeError\u001b[0m                                 Traceback (most recent call last)",
            "\u001b[0;32m<ipython-input-13-9ab00e1dab29>\u001b[0m in \u001b[0;36m<cell line: 2>\u001b[0;34m()\u001b[0m\n\u001b[1;32m      1\u001b[0m \u001b[0mt\u001b[0m\u001b[0;34m=\u001b[0m\u001b[0;34m(\u001b[0m\u001b[0;36m12\u001b[0m\u001b[0;34m,\u001b[0m\u001b[0;36m48\u001b[0m\u001b[0;34m,\u001b[0m\u001b[0;36m10\u001b[0m\u001b[0;34m,\u001b[0m\u001b[0;36m4.2\u001b[0m\u001b[0;34m,\u001b[0m\u001b[0;36m9.9\u001b[0m\u001b[0;34m)\u001b[0m\u001b[0;34m\u001b[0m\u001b[0;34m\u001b[0m\u001b[0m\n\u001b[0;32m----> 2\u001b[0;31m \u001b[0mt\u001b[0m\u001b[0;34m[\u001b[0m\u001b[0;36m0\u001b[0m\u001b[0;34m]\u001b[0m\u001b[0;34m=\u001b[0m\u001b[0;36m45\u001b[0m\u001b[0;34m\u001b[0m\u001b[0;34m\u001b[0m\u001b[0m\n\u001b[0m",
            "\u001b[0;31mTypeError\u001b[0m: 'tuple' object does not support item assignment"
          ]
        }
      ]
    },
    {
      "cell_type": "code",
      "source": [
        "\"\"\"\n",
        "When we talk in terms of strings,\n",
        "strings are said to be immutable if we try changing a particular character of that string,\n",
        "but they are said to be mutable in the sense that the same variable can be assigned to two different strings at any point in time.\n",
        "\"\"\"\n",
        "\n"
      ],
      "metadata": {
        "colab": {
          "base_uri": "https://localhost:8080/",
          "height": 52
        },
        "id": "gs12-gDFA2mP",
        "outputId": "d8e9f02c-7707-4e3c-8fe6-10f850d830aa"
      },
      "execution_count": 16,
      "outputs": [
        {
          "output_type": "execute_result",
          "data": {
            "text/plain": [
              "'\\nWhen we talk in terms of strings,\\nstrings are said to be immutable if we try changing a particular character of that string,\\nbut they are said to be mutable in the sense that the same variable can be assigned to two different strings at any point in time.\\n'"
            ],
            "application/vnd.google.colaboratory.intrinsic+json": {
              "type": "string"
            }
          },
          "metadata": {},
          "execution_count": 16
        }
      ]
    },
    {
      "cell_type": "code",
      "source": [
        "s=\"ABC\"\n",
        "s[0]=\"D\" #error when trying to change a character's value"
      ],
      "metadata": {
        "colab": {
          "base_uri": "https://localhost:8080/",
          "height": 158
        },
        "id": "HAR03EGrB16L",
        "outputId": "a18491a3-89bf-41f0-8d4a-13b804a15387"
      },
      "execution_count": 17,
      "outputs": [
        {
          "output_type": "error",
          "ename": "TypeError",
          "evalue": "'str' object does not support item assignment",
          "traceback": [
            "\u001b[0;31m---------------------------------------------------------------------------\u001b[0m",
            "\u001b[0;31mTypeError\u001b[0m                                 Traceback (most recent call last)",
            "\u001b[0;32m<ipython-input-17-f95bf66668bf>\u001b[0m in \u001b[0;36m<cell line: 2>\u001b[0;34m()\u001b[0m\n\u001b[1;32m      1\u001b[0m \u001b[0ms\u001b[0m\u001b[0;34m=\u001b[0m\u001b[0;34m\"ABC\"\u001b[0m\u001b[0;34m\u001b[0m\u001b[0;34m\u001b[0m\u001b[0m\n\u001b[0;32m----> 2\u001b[0;31m \u001b[0ms\u001b[0m\u001b[0;34m[\u001b[0m\u001b[0;36m0\u001b[0m\u001b[0;34m]\u001b[0m\u001b[0;34m=\u001b[0m\u001b[0;34m\"D\"\u001b[0m \u001b[0;31m#error when trying to change a character's value\u001b[0m\u001b[0;34m\u001b[0m\u001b[0;34m\u001b[0m\u001b[0m\n\u001b[0m",
            "\u001b[0;31mTypeError\u001b[0m: 'str' object does not support item assignment"
          ]
        }
      ]
    },
    {
      "cell_type": "code",
      "source": [
        "s=\"ABC\"\n",
        "s\n"
      ],
      "metadata": {
        "colab": {
          "base_uri": "https://localhost:8080/",
          "height": 35
        },
        "id": "9V5rPvgAB8n3",
        "outputId": "313f8c9e-9e86-4ba3-8d65-1227ca6dbf32"
      },
      "execution_count": 18,
      "outputs": [
        {
          "output_type": "execute_result",
          "data": {
            "text/plain": [
              "'ABC'"
            ],
            "application/vnd.google.colaboratory.intrinsic+json": {
              "type": "string"
            }
          },
          "metadata": {},
          "execution_count": 18
        }
      ]
    },
    {
      "cell_type": "code",
      "source": [
        "s=\"DEF\" #same variable string changed\n",
        "s"
      ],
      "metadata": {
        "colab": {
          "base_uri": "https://localhost:8080/",
          "height": 35
        },
        "id": "IaIHbi2tB_86",
        "outputId": "09ac0286-2523-473e-b4c6-a7363e400dec"
      },
      "execution_count": 19,
      "outputs": [
        {
          "output_type": "execute_result",
          "data": {
            "text/plain": [
              "'DEF'"
            ],
            "application/vnd.google.colaboratory.intrinsic+json": {
              "type": "string"
            }
          },
          "metadata": {},
          "execution_count": 19
        }
      ]
    }
  ]
}