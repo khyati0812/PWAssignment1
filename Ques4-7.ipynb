{
  "nbformat": 4,
  "nbformat_minor": 0,
  "metadata": {
    "colab": {
      "provenance": [],
      "authorship_tag": "ABX9TyNO2CdHdViQM2YQfbZqkuKv",
      "include_colab_link": true
    },
    "kernelspec": {
      "name": "python3",
      "display_name": "Python 3"
    },
    "language_info": {
      "name": "python"
    }
  },
  "cells": [
    {
      "cell_type": "markdown",
      "metadata": {
        "id": "view-in-github",
        "colab_type": "text"
      },
      "source": [
        "<a href=\"https://colab.research.google.com/github/khyati0812/PWAssignment1/blob/main/Ques4-7.ipynb\" target=\"_parent\"><img src=\"https://colab.research.google.com/assets/colab-badge.svg\" alt=\"Open In Colab\"/></a>"
      ]
    },
    {
      "cell_type": "markdown",
      "source": [
        "#Ques 4."
      ],
      "metadata": {
        "id": "wh2n4zkRmh1x"
      }
    },
    {
      "cell_type": "markdown",
      "source": [
        "#####Operators are special symbols used to perform mathematical calculations on variables or values.\n",
        "There are different types of operators used in Python-\n",
        "\n",
        "\n",
        "* Arithmetic operators- used to perform arithmetic calculations.\n",
        "\n",
        "\n",
        "\n",
        "*   Comparison operators- return a boolean value.\n",
        "*   Logical operators- AND, OR\n",
        "\n",
        "\n",
        "*  Not operator- reverses the result.\n",
        "*  Membership operator- returns a boolean value(in, not in)\n",
        "\n",
        "*  Identity operators- compares the location of two objects or variables.\n",
        "*   Bitwise operators- used to perform calculations at bit level.\n",
        "\n",
        "\n",
        "\n",
        "\n"
      ],
      "metadata": {
        "id": "lhMpyEcXmliU"
      }
    },
    {
      "cell_type": "markdown",
      "source": [
        "###Arithmetic operators\n",
        "1. '+' Adds two numbers\n",
        "2. '-' Subtracts two numbers\n",
        "3. '*' Multiplication of two numbers\n",
        "4. '/' Returns a floating point value- divides two numbers\n",
        "5. '%' Modulo- returns the remainder on dividing two numbers\n",
        "6. '//' Returns the quotient- integer value on dividing two numbers.\n",
        "7. '**' Returns number raised to the power.\n",
        "\n"
      ],
      "metadata": {
        "id": "xllLqHizn3J9"
      }
    },
    {
      "cell_type": "code",
      "source": [
        "a=2\n",
        "b=3\n",
        "a+b\n"
      ],
      "metadata": {
        "colab": {
          "base_uri": "https://localhost:8080/"
        },
        "id": "aTJkSrF3n8wC",
        "outputId": "15591013-124a-435d-e1e5-00ca9dbf134a"
      },
      "execution_count": 1,
      "outputs": [
        {
          "output_type": "execute_result",
          "data": {
            "text/plain": [
              "5"
            ]
          },
          "metadata": {},
          "execution_count": 1
        }
      ]
    },
    {
      "cell_type": "code",
      "source": [
        "print(a-b)\n",
        "print(a*b)\n",
        "print(a/b)\n",
        "print(a//b)\n",
        "print(a%b)\n",
        "print(a**b)"
      ],
      "metadata": {
        "colab": {
          "base_uri": "https://localhost:8080/"
        },
        "id": "Gkr0FCYYoJ7N",
        "outputId": "0140ef23-5870-45e2-b54c-be517e82bf80"
      },
      "execution_count": 4,
      "outputs": [
        {
          "output_type": "stream",
          "name": "stdout",
          "text": [
            "-1\n",
            "6\n",
            "0.6666666666666666\n",
            "0\n",
            "2\n",
            "8\n"
          ]
        }
      ]
    },
    {
      "cell_type": "markdown",
      "source": [
        "###Comparison Operators-\n",
        "\n",
        "1. a>b Returns true if a is greater than b\n",
        "2. a<b Returns true if a is less than b.\n",
        "3. a>=b Returns true if a is greater than or equal to b.\n",
        "4. a<=b Returns true if a is less than or equal to b.\n",
        "5. a==b Returns true if a is equal to b.\n",
        "6. a!=b Returns true if a is not equal to b."
      ],
      "metadata": {
        "id": "LV-4UGWqo1G0"
      }
    },
    {
      "cell_type": "code",
      "source": [
        "print(a,\" \",b,(a>b))\n",
        "print(a,\" \",b,(a<b))\n",
        "print(a,\" \",b,(a>=b))\n",
        "print(a,\" \",b,(a<=b))\n",
        "print(a,\" \",b,(a==b))\n",
        "print(a,\" \",b,(a!=b))"
      ],
      "metadata": {
        "colab": {
          "base_uri": "https://localhost:8080/"
        },
        "id": "NTVAlAzUpqeL",
        "outputId": "5dbc5bbe-0053-4fd8-c822-337bc075e53a"
      },
      "execution_count": 6,
      "outputs": [
        {
          "output_type": "stream",
          "name": "stdout",
          "text": [
            "2   3 False\n",
            "2   3 True\n",
            "2   3 False\n",
            "2   3 True\n",
            "2   3 False\n",
            "2   3 True\n"
          ]
        }
      ]
    },
    {
      "cell_type": "markdown",
      "source": [
        "###Logical Operators-\n",
        "1. AND Returns true if both operands are true\n",
        "2. OR Returns true if either of two operands is true\n"
      ],
      "metadata": {
        "id": "eqNX-wg3qByo"
      }
    },
    {
      "cell_type": "code",
      "source": [
        "print(a and b)\n",
        "# 1 and 1=1\n",
        "# 0 and 1=0\n",
        "# 1 and 0=0\n",
        "# 0 and 0=0"
      ],
      "metadata": {
        "colab": {
          "base_uri": "https://localhost:8080/"
        },
        "id": "yJ1naZOfqJ8W",
        "outputId": "9f6b74b6-ee6e-4df9-91ba-566f52e6f844"
      },
      "execution_count": 8,
      "outputs": [
        {
          "output_type": "stream",
          "name": "stdout",
          "text": [
            "3\n"
          ]
        }
      ]
    },
    {
      "cell_type": "code",
      "source": [
        "print(a or b)\n",
        "# 1 and 1=1\n",
        "# 0 and 1=1\n",
        "# 1 and 0=1\n",
        "# 0 and 0=0"
      ],
      "metadata": {
        "colab": {
          "base_uri": "https://localhost:8080/"
        },
        "id": "A7M9P2HJqZBU",
        "outputId": "0cd0cfd4-7f41-42ac-8ec8-058450d58353"
      },
      "execution_count": 10,
      "outputs": [
        {
          "output_type": "stream",
          "name": "stdout",
          "text": [
            "2\n"
          ]
        }
      ]
    },
    {
      "cell_type": "markdown",
      "source": [
        "###Not operator-\n",
        "Reverses the expected result.\n"
      ],
      "metadata": {
        "id": "0uafippcqeGB"
      }
    },
    {
      "cell_type": "code",
      "source": [
        "\n",
        "print(not 2<3)"
      ],
      "metadata": {
        "colab": {
          "base_uri": "https://localhost:8080/"
        },
        "id": "uxl3U9nHqlmc",
        "outputId": "fa13cd84-b3d2-46c7-da5b-cc0f5682cf06"
      },
      "execution_count": 13,
      "outputs": [
        {
          "output_type": "stream",
          "name": "stdout",
          "text": [
            "False\n"
          ]
        }
      ]
    },
    {
      "cell_type": "markdown",
      "source": [
        "###Assignment Operator-\n",
        "1. a=5  Assigns value 5 to a.\n",
        "2. a is called the r-value and 5 is called the l-value.\n"
      ],
      "metadata": {
        "id": "vyg4cRfNqvfN"
      }
    },
    {
      "cell_type": "markdown",
      "source": [
        "###Membership Operator-\n",
        "1. x in y: Returns true if x is present in y.\n",
        "2. x not in y: Returns true if x is not present in y."
      ],
      "metadata": {
        "id": "oFiDMpPZq63f"
      }
    },
    {
      "cell_type": "code",
      "source": [
        "\"pw\" in \"pwskills\""
      ],
      "metadata": {
        "colab": {
          "base_uri": "https://localhost:8080/"
        },
        "id": "-9pdtLHIrHUR",
        "outputId": "b0e57125-1d82-43ee-a02d-130a6b7405bb"
      },
      "execution_count": 14,
      "outputs": [
        {
          "output_type": "execute_result",
          "data": {
            "text/plain": [
              "True"
            ]
          },
          "metadata": {},
          "execution_count": 14
        }
      ]
    },
    {
      "cell_type": "code",
      "source": [
        "2 in [3,191,28,1]"
      ],
      "metadata": {
        "colab": {
          "base_uri": "https://localhost:8080/"
        },
        "id": "DUBNHEjSrKXE",
        "outputId": "d964c27b-37ec-4162-ecb6-dff00a5ca752"
      },
      "execution_count": 15,
      "outputs": [
        {
          "output_type": "execute_result",
          "data": {
            "text/plain": [
              "False"
            ]
          },
          "metadata": {},
          "execution_count": 15
        }
      ]
    },
    {
      "cell_type": "code",
      "source": [
        "'c' in \"pcslosos\""
      ],
      "metadata": {
        "colab": {
          "base_uri": "https://localhost:8080/"
        },
        "id": "jwl3ugXSrNPd",
        "outputId": "d7a3fb6a-d2ff-498a-a7d4-146c62d3559a"
      },
      "execution_count": 16,
      "outputs": [
        {
          "output_type": "execute_result",
          "data": {
            "text/plain": [
              "True"
            ]
          },
          "metadata": {},
          "execution_count": 16
        }
      ]
    },
    {
      "cell_type": "code",
      "source": [
        "2 not in [283,19]"
      ],
      "metadata": {
        "colab": {
          "base_uri": "https://localhost:8080/"
        },
        "id": "L4h1WjDkrQEF",
        "outputId": "621d998e-6a76-4533-c375-b3032fd33a41"
      },
      "execution_count": 17,
      "outputs": [
        {
          "output_type": "execute_result",
          "data": {
            "text/plain": [
              "True"
            ]
          },
          "metadata": {},
          "execution_count": 17
        }
      ]
    },
    {
      "cell_type": "markdown",
      "source": [
        "###Identity Operators\n",
        "1. a is b : Returns true if both a and b point to the same memory location.\n",
        "2. a is not b: Returns true if both a and b point to different memory locations."
      ],
      "metadata": {
        "id": "8JqCuRSXrR_G"
      }
    },
    {
      "cell_type": "code",
      "source": [
        "a is b"
      ],
      "metadata": {
        "colab": {
          "base_uri": "https://localhost:8080/"
        },
        "id": "PusPeTYIrr5r",
        "outputId": "575277e2-4ac8-4571-c012-04d59ea01ee9"
      },
      "execution_count": 18,
      "outputs": [
        {
          "output_type": "execute_result",
          "data": {
            "text/plain": [
              "False"
            ]
          },
          "metadata": {},
          "execution_count": 18
        }
      ]
    },
    {
      "cell_type": "code",
      "source": [
        "a=2\n",
        "b=2\n",
        "a is b"
      ],
      "metadata": {
        "colab": {
          "base_uri": "https://localhost:8080/"
        },
        "id": "tbTb-QGyrtY0",
        "outputId": "188a310c-0a2f-4641-f416-f0caba1efa98"
      },
      "execution_count": 19,
      "outputs": [
        {
          "output_type": "execute_result",
          "data": {
            "text/plain": [
              "True"
            ]
          },
          "metadata": {},
          "execution_count": 19
        }
      ]
    },
    {
      "cell_type": "code",
      "source": [
        "a=[1,2]\n",
        "b=[3,4]\n",
        "a is b"
      ],
      "metadata": {
        "colab": {
          "base_uri": "https://localhost:8080/"
        },
        "id": "TnZp_lcarwCB",
        "outputId": "406a9f50-63fb-45bc-acd1-dc4d8a8b3678"
      },
      "execution_count": 20,
      "outputs": [
        {
          "output_type": "execute_result",
          "data": {
            "text/plain": [
              "False"
            ]
          },
          "metadata": {},
          "execution_count": 20
        }
      ]
    },
    {
      "cell_type": "code",
      "source": [
        "a=[1]\n",
        "b=[1]\n",
        "a is not b"
      ],
      "metadata": {
        "colab": {
          "base_uri": "https://localhost:8080/"
        },
        "id": "_q45gKqAr0Ui",
        "outputId": "82ef0927-bc9c-4476-c7fe-95b97e5a4aa5"
      },
      "execution_count": 22,
      "outputs": [
        {
          "output_type": "execute_result",
          "data": {
            "text/plain": [
              "True"
            ]
          },
          "metadata": {},
          "execution_count": 22
        }
      ]
    },
    {
      "cell_type": "code",
      "source": [
        "s=\"k\"\n",
        "p=\"k\"\n",
        "s is p"
      ],
      "metadata": {
        "colab": {
          "base_uri": "https://localhost:8080/"
        },
        "id": "PVPLKddar7k0",
        "outputId": "01486486-dfe0-471a-efbc-0becab454c4b"
      },
      "execution_count": 23,
      "outputs": [
        {
          "output_type": "execute_result",
          "data": {
            "text/plain": [
              "True"
            ]
          },
          "metadata": {},
          "execution_count": 23
        }
      ]
    },
    {
      "cell_type": "markdown",
      "source": [
        "###Bitwise Operators-\n",
        "1. Bitwise & : Returns 1 on a particular bit position if both the operands' bit at that position is set.\n",
        "2. Bitwise | : Returns 0 on a particular bit position if both the operands' bit at that position is not set.\n",
        "3. ~ : Returns negative of 1+ input.\n",
        "4. >>: Shifts the bits of number towards the right.\n",
        "5. <<: Shifts the bits of a number towards left."
      ],
      "metadata": {
        "id": "ubYbvFi5sBKy"
      }
    },
    {
      "cell_type": "code",
      "source": [
        "a=5\n",
        "b=10\n",
        "print(bin(a)) #binary representation of a\n",
        "print(bin(b))\n",
        "print(a&b)\n",
        "print(a|b)\n",
        "print(~a)\n",
        "print(a>>1)\n",
        "print(a<<1)"
      ],
      "metadata": {
        "colab": {
          "base_uri": "https://localhost:8080/"
        },
        "id": "2iVXa2M-tJ42",
        "outputId": "db2afe11-7b8b-4afd-d2f9-4f28298cd34a"
      },
      "execution_count": 25,
      "outputs": [
        {
          "output_type": "stream",
          "name": "stdout",
          "text": [
            "0b101\n",
            "0b1010\n",
            "0\n",
            "15\n",
            "-6\n",
            "2\n",
            "10\n"
          ]
        }
      ]
    },
    {
      "cell_type": "markdown",
      "source": [
        "#Ques 5\n"
      ],
      "metadata": {
        "id": "j1p4eIx9tubD"
      }
    },
    {
      "cell_type": "markdown",
      "source": [
        "##Implicit type casting:\n",
        "We don't need to specify the data type of a variable when declaring it or assigning a value. Python automatically understands the type on the basis of value it holds.\n",
        "\n",
        "##Explicit type casting:\n",
        "Forcibly converting a variable to different data type depending on the use case or user requirements. This is done explicitly by the programmers.\n"
      ],
      "metadata": {
        "id": "SHBA_1IFt52l"
      }
    },
    {
      "cell_type": "code",
      "source": [
        "a=5 #implicit\n",
        "type(a)"
      ],
      "metadata": {
        "colab": {
          "base_uri": "https://localhost:8080/"
        },
        "id": "VHH1_4g2ucgI",
        "outputId": "f6335488-4e1e-4909-8d93-8c48ddb73603"
      },
      "execution_count": 26,
      "outputs": [
        {
          "output_type": "execute_result",
          "data": {
            "text/plain": [
              "int"
            ]
          },
          "metadata": {},
          "execution_count": 26
        }
      ]
    },
    {
      "cell_type": "code",
      "source": [
        "b=9.7\n",
        "type(b)"
      ],
      "metadata": {
        "colab": {
          "base_uri": "https://localhost:8080/"
        },
        "id": "52R9IugvunOE",
        "outputId": "2a2651dd-c947-41b6-fce9-c9fcf44a4ab5"
      },
      "execution_count": 27,
      "outputs": [
        {
          "output_type": "execute_result",
          "data": {
            "text/plain": [
              "float"
            ]
          },
          "metadata": {},
          "execution_count": 27
        }
      ]
    },
    {
      "cell_type": "code",
      "source": [
        "c=\"Pwskills\"\n",
        "type(c)"
      ],
      "metadata": {
        "colab": {
          "base_uri": "https://localhost:8080/"
        },
        "id": "YNMV0XuZuqRS",
        "outputId": "1aebd261-b82e-4d52-c365-c4dcb66e847f"
      },
      "execution_count": 28,
      "outputs": [
        {
          "output_type": "execute_result",
          "data": {
            "text/plain": [
              "str"
            ]
          },
          "metadata": {},
          "execution_count": 28
        }
      ]
    },
    {
      "cell_type": "code",
      "source": [
        "d=\"Khyati\"+5 #try adding string to integer- error\n",
        "d"
      ],
      "metadata": {
        "colab": {
          "base_uri": "https://localhost:8080/",
          "height": 158
        },
        "id": "sHz5B31wuudS",
        "outputId": "9e7d9b3a-4c90-4e76-8d49-b217ac0f7f51"
      },
      "execution_count": 29,
      "outputs": [
        {
          "output_type": "error",
          "ename": "TypeError",
          "evalue": "can only concatenate str (not \"int\") to str",
          "traceback": [
            "\u001b[0;31m---------------------------------------------------------------------------\u001b[0m",
            "\u001b[0;31mTypeError\u001b[0m                                 Traceback (most recent call last)",
            "\u001b[0;32m<ipython-input-29-d72983481fb7>\u001b[0m in \u001b[0;36m<cell line: 1>\u001b[0;34m()\u001b[0m\n\u001b[0;32m----> 1\u001b[0;31m \u001b[0md\u001b[0m\u001b[0;34m=\u001b[0m\u001b[0;34m\"Khyati\"\u001b[0m\u001b[0;34m+\u001b[0m\u001b[0;36m5\u001b[0m \u001b[0;31m#try adding string to integer- error\u001b[0m\u001b[0;34m\u001b[0m\u001b[0;34m\u001b[0m\u001b[0m\n\u001b[0m\u001b[1;32m      2\u001b[0m \u001b[0md\u001b[0m\u001b[0;34m\u001b[0m\u001b[0;34m\u001b[0m\u001b[0m\n",
            "\u001b[0;31mTypeError\u001b[0m: can only concatenate str (not \"int\") to str"
          ]
        }
      ]
    },
    {
      "cell_type": "code",
      "source": [
        "d=\"Khyati\"+str(5) #explicit casting- converting 5 to string so that it can be added to Khyati\n",
        "d"
      ],
      "metadata": {
        "colab": {
          "base_uri": "https://localhost:8080/",
          "height": 35
        },
        "id": "eZWLM150u1QB",
        "outputId": "2d69552d-bc26-4c63-9b3b-ceb5b6a89503"
      },
      "execution_count": 30,
      "outputs": [
        {
          "output_type": "execute_result",
          "data": {
            "text/plain": [
              "'Khyati5'"
            ],
            "application/vnd.google.colaboratory.intrinsic+json": {
              "type": "string"
            }
          },
          "metadata": {},
          "execution_count": 30
        }
      ]
    },
    {
      "cell_type": "code",
      "source": [
        "d=\"123\"+\"546\"\n",
        "d"
      ],
      "metadata": {
        "colab": {
          "base_uri": "https://localhost:8080/",
          "height": 35
        },
        "id": "yZE7lIRTu_Xv",
        "outputId": "5806be73-bb12-4eb5-fb15-a75fe8df4ba1"
      },
      "execution_count": 31,
      "outputs": [
        {
          "output_type": "execute_result",
          "data": {
            "text/plain": [
              "'123546'"
            ],
            "application/vnd.google.colaboratory.intrinsic+json": {
              "type": "string"
            }
          },
          "metadata": {},
          "execution_count": 31
        }
      ]
    },
    {
      "cell_type": "code",
      "source": [
        "d=int(5.89786)+int(678.9)\n",
        "d"
      ],
      "metadata": {
        "colab": {
          "base_uri": "https://localhost:8080/"
        },
        "id": "WT_f2aJFvC3n",
        "outputId": "93f708d9-0e50-4521-be87-3908552ba859"
      },
      "execution_count": 35,
      "outputs": [
        {
          "output_type": "execute_result",
          "data": {
            "text/plain": [
              "683"
            ]
          },
          "metadata": {},
          "execution_count": 35
        }
      ]
    },
    {
      "cell_type": "code",
      "source": [
        "d=int(767.868)+5\n",
        "d"
      ],
      "metadata": {
        "colab": {
          "base_uri": "https://localhost:8080/"
        },
        "id": "qeMpiC6RvO5K",
        "outputId": "23a236b6-9567-4f13-9010-88fff7326873"
      },
      "execution_count": 36,
      "outputs": [
        {
          "output_type": "execute_result",
          "data": {
            "text/plain": [
              "772"
            ]
          },
          "metadata": {},
          "execution_count": 36
        }
      ]
    },
    {
      "cell_type": "markdown",
      "source": [
        "#Ques 6.\n"
      ],
      "metadata": {
        "id": "2WLb2-hmvV56"
      }
    },
    {
      "cell_type": "markdown",
      "source": [
        "##Conditional Statements-\n",
        "Used for flow control- how are the statements in a program executed.\n",
        "1. Sequential flow: Statements are executed line-by-line in a sequential order. It is only when all of the previous statements are executed that the control reaches the current statement.\n",
        "2. Conditional flow: Sequential execution not necessary. Control jumps to the statement satisfying a particular condition.Helpful in taking logical decisions."
      ],
      "metadata": {
        "id": "YSwh2a3FzwAU"
      }
    },
    {
      "cell_type": "markdown",
      "source": [
        "###Conditional Statements:\n",
        "Decision-making statements.\n",
        "\n",
        "---\n",
        "\n",
        "\n",
        "Might use comparison operators, logical operators for evaluating the condition.\n",
        "\n",
        "---\n",
        "\n",
        "\n",
        "1. if : Executes the body if a particular condition is true.\n",
        "2. if else: Executes the body under if if the condition evaluates to true else the body under \"else\" is executed for all other cases.\n",
        "3. if elif else: Used when we want to check multiple conditions and perform actions accordingly.\n",
        "\n",
        "\n",
        "\n"
      ],
      "metadata": {
        "id": "50eNj8Wo4Yky"
      }
    },
    {
      "cell_type": "code",
      "source": [
        "#if use case\n",
        "age=19\n",
        "if(age>18):\n",
        "  print(\"You are an adult\")"
      ],
      "metadata": {
        "colab": {
          "base_uri": "https://localhost:8080/"
        },
        "id": "7Ornc27V5CWT",
        "outputId": "3dcdacb1-15d5-41b3-c027-b8fd233a391a"
      },
      "execution_count": 37,
      "outputs": [
        {
          "output_type": "stream",
          "name": "stdout",
          "text": [
            "You are an adult\n"
          ]
        }
      ]
    },
    {
      "cell_type": "code",
      "source": [
        "#if else use case\n",
        "age=13\n",
        "if(age>18):\n",
        "  print(\"You are an adult\")\n",
        "else:\n",
        "  print(\"You are not an adult\")"
      ],
      "metadata": {
        "colab": {
          "base_uri": "https://localhost:8080/"
        },
        "id": "9E-J4F825JOE",
        "outputId": "f6e86be4-859e-4d6d-e194-b29c70aff62d"
      },
      "execution_count": 38,
      "outputs": [
        {
          "output_type": "stream",
          "name": "stdout",
          "text": [
            "You are not an adult\n"
          ]
        }
      ]
    },
    {
      "cell_type": "code",
      "source": [
        "#nested if\n",
        "age=21\n",
        "a=4\n",
        "if age>18:\n",
        "  if a%4!=0:\n",
        "    print(\"Odd number\")\n",
        "  else:\n",
        "    print(\"Even number\")\n",
        "else:\n",
        "  print(\"invalid\")"
      ],
      "metadata": {
        "colab": {
          "base_uri": "https://localhost:8080/"
        },
        "id": "1SPItvUI5PqD",
        "outputId": "502d93b7-f85b-4516-858f-6f5e54823db1"
      },
      "execution_count": 39,
      "outputs": [
        {
          "output_type": "stream",
          "name": "stdout",
          "text": [
            "Even number\n"
          ]
        }
      ]
    },
    {
      "cell_type": "code",
      "source": [
        "#if elif else\n",
        "age=43\n",
        "if age>50:\n",
        "  print(\"Hi\")\n",
        "elif age>45:\n",
        "  print(\"Hey\")\n",
        "elif age>40:\n",
        "  print(\"Hello\")\n",
        "else:\n",
        "  print(\"default bye\")"
      ],
      "metadata": {
        "colab": {
          "base_uri": "https://localhost:8080/"
        },
        "id": "6NP1nQRl5hmp",
        "outputId": "8b479dc7-cf11-483e-9052-9310059d5588"
      },
      "execution_count": 40,
      "outputs": [
        {
          "output_type": "stream",
          "name": "stdout",
          "text": [
            "Hello\n"
          ]
        }
      ]
    },
    {
      "cell_type": "markdown",
      "source": [
        "#Ques 7.\n"
      ],
      "metadata": {
        "id": "Jb7z6aJF6JjL"
      }
    },
    {
      "cell_type": "markdown",
      "source": [
        "##Loops in Python-\n",
        "Used for non sequential flow of statements.\n",
        "\n",
        "---\n",
        "\n",
        "\n",
        "\n",
        "\n",
        "\n",
        "Used when we want to perform/repeat a task for certain number of times.\n",
        "\n",
        "---\n",
        "\n",
        "\n",
        "Reduces manual effort.\n",
        "\n",
        "---\n",
        "###Types of loops:\n",
        "1. for loop- executes the body of the loop until the condition becomes false.\n",
        "2. while loop- executes the body of the loop until the condition evaluates to true.\n",
        "\n",
        "###Jump statements:\n",
        "1. break- when encountered, breaks out of the loop/terminates it.\n",
        "2. continue- when encountered, skips the current iteration.\n",
        "3. Can be used with both for and while.\n",
        "\n",
        "\n"
      ],
      "metadata": {
        "id": "10ixyZAY6NvB"
      }
    },
    {
      "cell_type": "code",
      "source": [
        "s=0\n",
        "for i in range(0,11):\n",
        "  if i%2==0:\n",
        "    s+=i\n",
        "print(\"Sum of all even numbers from 0 to 10 is:\",s)"
      ],
      "metadata": {
        "colab": {
          "base_uri": "https://localhost:8080/"
        },
        "id": "d45GvLoU798_",
        "outputId": "866607d7-515b-4464-bed2-ceade2b15ac9"
      },
      "execution_count": 41,
      "outputs": [
        {
          "output_type": "stream",
          "name": "stdout",
          "text": [
            "Sum of all even numbers from 0 to 10 is: 30\n"
          ]
        }
      ]
    },
    {
      "cell_type": "code",
      "source": [
        "i=0\n",
        "s=0\n",
        "while i<11:\n",
        "  if i%2==0:\n",
        "    s+=i\n",
        "  i+=1\n",
        "print(\"Sum of all even numbers from 0 to 10 is:\",s)"
      ],
      "metadata": {
        "colab": {
          "base_uri": "https://localhost:8080/"
        },
        "id": "_PTXblaU8LRA",
        "outputId": "d6dbae71-43e5-4b66-cc08-e73551f007fc"
      },
      "execution_count": 42,
      "outputs": [
        {
          "output_type": "stream",
          "name": "stdout",
          "text": [
            "Sum of all even numbers from 0 to 10 is: 30\n"
          ]
        }
      ]
    },
    {
      "cell_type": "code",
      "source": [
        "\n",
        "for i in range(1,11):\n",
        "  if i==3:\n",
        "    continue\n",
        "  print(i)"
      ],
      "metadata": {
        "colab": {
          "base_uri": "https://localhost:8080/"
        },
        "id": "w2pl5LCj8R-Q",
        "outputId": "57ccc86a-4f21-4562-ed66-14ed4faa8b97"
      },
      "execution_count": 44,
      "outputs": [
        {
          "output_type": "stream",
          "name": "stdout",
          "text": [
            "1\n",
            "2\n",
            "4\n",
            "5\n",
            "6\n",
            "7\n",
            "8\n",
            "9\n",
            "10\n"
          ]
        }
      ]
    },
    {
      "cell_type": "code",
      "source": [
        "\n",
        "for i in range(1,11):\n",
        "  if i==3:\n",
        "    break\n",
        "  print(i)"
      ],
      "metadata": {
        "colab": {
          "base_uri": "https://localhost:8080/"
        },
        "id": "90ew8PML8bly",
        "outputId": "c14e2701-50de-4e8a-88f9-45724ac0025e"
      },
      "execution_count": 45,
      "outputs": [
        {
          "output_type": "stream",
          "name": "stdout",
          "text": [
            "1\n",
            "2\n"
          ]
        }
      ]
    },
    {
      "cell_type": "code",
      "source": [],
      "metadata": {
        "id": "DfEDLMOz8gcI"
      },
      "execution_count": null,
      "outputs": []
    }
  ]
}